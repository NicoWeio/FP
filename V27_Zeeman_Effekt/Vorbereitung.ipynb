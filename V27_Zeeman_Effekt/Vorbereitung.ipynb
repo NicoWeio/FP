{
 "cells": [
  {
   "cell_type": "markdown",
   "id": "9df8fdb8",
   "metadata": {},
   "source": [
    "## 6)"
   ]
  },
  {
   "cell_type": "code",
   "execution_count": 1,
   "id": "a179ae89",
   "metadata": {},
   "outputs": [],
   "source": [
    "import numpy as np"
   ]
  },
  {
   "cell_type": "code",
   "execution_count": 2,
   "id": "9dd2565d",
   "metadata": {},
   "outputs": [],
   "source": [
    "def delta_lambda_D(lamb,d,n):\n",
    "    return lamb**2/(2*d)/np.sqrt(n**2-1)\n",
    "\n",
    "def A(L,lamb,n):\n",
    "    return L/lamb * (n**2-1)"
   ]
  },
  {
   "cell_type": "code",
   "execution_count": 3,
   "id": "5593ab27",
   "metadata": {},
   "outputs": [],
   "source": [
    "lamb1 = 643.8*10**(-9)\n",
    "lamb2 = 480*10**(-9)\n",
    "d = 4*10**(-3)\n",
    "L = 120*10**(-3)\n",
    "n1 = 1.4567\n",
    "n2 = 1.4635"
   ]
  },
  {
   "cell_type": "code",
   "execution_count": 4,
   "id": "c50a3ef7",
   "metadata": {},
   "outputs": [],
   "source": [
    "A1 = A(L,lamb1,n1)\n",
    "A2 = A(L,lamb2,n2)"
   ]
  },
  {
   "cell_type": "code",
   "execution_count": 5,
   "id": "caec3b5e",
   "metadata": {},
   "outputs": [
    {
     "name": "stdout",
     "output_type": "stream",
     "text": [
      "delta_lambda_D (lamb=643.8nm) = 4.8912559474967786e-11\n",
      "delta_lambda_D (lamb=480nm) = 2.6952020928905127e-11\n",
      "A(lamb=643.8nm) = 209128.59086672883\n",
      "A(lamb=480nm) = 285458.0625\n"
     ]
    }
   ],
   "source": [
    "print(f'delta_lambda_D (lamb=643.8nm) = {delta_lambda_D(lamb1,d,n1)}')\n",
    "print(f'delta_lambda_D (lamb=480nm) = {delta_lambda_D(lamb2,d,n2)}')\n",
    "print(f'A(lamb=643.8nm) = {A1}')\n",
    "print(f'A(lamb=480nm) = {A2}')"
   ]
  },
  {
   "cell_type": "code",
   "execution_count": 6,
   "id": "a7d6f926",
   "metadata": {},
   "outputs": [],
   "source": [
    "def delta_lambda(lamb,A):\n",
    "    return lamb/A"
   ]
  },
  {
   "cell_type": "code",
   "execution_count": 7,
   "id": "efbde71e",
   "metadata": {},
   "outputs": [
    {
     "name": "stdout",
     "output_type": "stream",
     "text": [
      "delta_lambda(lamb=643.8nm) = 3.078488681685202e-12\n",
      "delta_lambda(lamb=480nm) = 1.68150794479662e-12\n"
     ]
    }
   ],
   "source": [
    "print(f'delta_lambda(lamb=643.8nm) = {delta_lambda(lamb1,A1)}')\n",
    "print(f'delta_lambda(lamb=480nm) = {delta_lambda(lamb2,A2)}')"
   ]
  },
  {
   "cell_type": "code",
   "execution_count": 8,
   "id": "b26fc737",
   "metadata": {},
   "outputs": [],
   "source": [
    "def E0(lamb):\n",
    "    return h*c/lamb\n",
    "\n",
    "def p(E0,delta_lamb,min_,max_):\n",
    "    return (E0*delta_lamb*(max_+min_)-h*c*(min_-max_))/(delta_lamb*mu_B*max_*min_)\n",
    "\n",
    "def q(E0,min_,max_):\n",
    "    return E0**2/(mu_B**2*max_*min_)\n",
    "\n",
    "def B_p(p,q):\n",
    "    return -p/2+np.sqrt((p/2)**2-q)\n",
    "\n",
    "def B_m(p,q):\n",
    "    return -p/2-np.sqrt((p/2)**2-q)"
   ]
  },
  {
   "cell_type": "code",
   "execution_count": 9,
   "id": "6b78a21f",
   "metadata": {},
   "outputs": [],
   "source": [
    "h = 6.626*10**(-34)\n",
    "c = 3*10**8\n",
    "mu_B = 9.274*10**(-24)"
   ]
  },
  {
   "cell_type": "code",
   "execution_count": 10,
   "id": "b6ddf461",
   "metadata": {},
   "outputs": [],
   "source": [
    "max1 = 1\n",
    "min1 = -1\n",
    "max2 = 2\n",
    "min2 = -2"
   ]
  },
  {
   "cell_type": "code",
   "execution_count": 11,
   "id": "423fe2ad",
   "metadata": {},
   "outputs": [],
   "source": [
    "E0_1 = E0(lamb1)\n",
    "E0_2 = E0(lamb2)\n",
    "p1 = p(E0_1,delta_lambda(lamb1,A1),min1,max1)\n",
    "q1 = q(E0_1,min1,max1)\n",
    "B1p = B_p(p1,q1)\n",
    "B1m = B_m(p1,q1)\n",
    "p2 = p(E0_2,delta_lambda(lamb2,A2),min2,max2)\n",
    "q2 = q(E0_2,min2,max2)\n",
    "B2p = B_p(p2,q2)\n",
    "B2m = B_m(p2,q2)"
   ]
  },
  {
   "cell_type": "code",
   "execution_count": 12,
   "id": "08110a62",
   "metadata": {},
   "outputs": [
    {
     "name": "stdout",
     "output_type": "stream",
     "text": [
      "B1p=13925090589.78047 ; B1m=-0.07959938049316406\n",
      "B2p=12746961411.81531 ; B2m=-0.0391082763671875\n"
     ]
    }
   ],
   "source": [
    "print(f'{B1p=} ; {B1m=}')\n",
    "print(f'{B2p=} ; {B2m=}')"
   ]
  }
 ],
 "metadata": {
  "kernelspec": {
   "display_name": "Python 3",
   "language": "python",
   "name": "python3"
  },
  "language_info": {
   "codemirror_mode": {
    "name": "ipython",
    "version": 3
   },
   "file_extension": ".py",
   "mimetype": "text/x-python",
   "name": "python",
   "nbconvert_exporter": "python",
   "pygments_lexer": "ipython3",
   "version": "3.10.4"
  }
 },
 "nbformat": 4,
 "nbformat_minor": 5
}
